{
 "cells": [
  {
   "cell_type": "markdown",
   "id": "89db9513",
   "metadata": {},
   "source": [
    "### Add a list of elements to a set"
   ]
  },
  {
   "cell_type": "code",
   "execution_count": 2,
   "id": "5b8a94b1",
   "metadata": {},
   "outputs": [
    {
     "name": "stdout",
     "output_type": "stream",
     "text": [
      "Enter a list:['blue','red','white','black','blue','red']\n",
      "{'white', 'blue', 'black', 'red'}\n"
     ]
    }
   ],
   "source": [
    "ls = eval(input('Enter a list:'))\n",
    "s = set(ls)\n",
    "print(s)"
   ]
  },
  {
   "cell_type": "code",
   "execution_count": 7,
   "id": "f5389fd7",
   "metadata": {},
   "outputs": [
    {
     "name": "stdout",
     "output_type": "stream",
     "text": [
      "Enter a set elements:{'blue','red','white','black','blue','red'}\n",
      "Enter a list elements:['green','purple']\n",
      "{'white', 'blue', 'black', 'red'}\n",
      "{'purple', 'blue', 'green', 'white', 'red', 'black'}\n"
     ]
    }
   ],
   "source": [
    "s = eval(input('Enter a set elements:'))\n",
    "ls = eval (input('Enter a list elements:'))\n",
    "print(s)\n",
    "s.update(ls)\n",
    "print(s)"
   ]
  },
  {
   "cell_type": "markdown",
   "id": "2439b952",
   "metadata": {},
   "source": [
    "### Return intersection from two sets"
   ]
  },
  {
   "cell_type": "code",
   "execution_count": 9,
   "id": "b5f120e7",
   "metadata": {},
   "outputs": [
    {
     "name": "stdout",
     "output_type": "stream",
     "text": [
      "Enter a set:{1,2,3,4}\n",
      "Enter a set:{3,4,5,6}\n",
      "{3, 4}\n"
     ]
    }
   ],
   "source": [
    "s1 = eval(input('Enter a set:'))\n",
    "s2 = eval(input('Enter a set:'))\n",
    "print(s1.intersection(s2))"
   ]
  },
  {
   "cell_type": "markdown",
   "id": "69091fb5",
   "metadata": {},
   "source": [
    "###  Get unique items from two sets"
   ]
  },
  {
   "cell_type": "code",
   "execution_count": 11,
   "id": "fc4e2594",
   "metadata": {},
   "outputs": [
    {
     "name": "stdout",
     "output_type": "stream",
     "text": [
      "Enter a set:{'manu',1,2,3}\n",
      "Enter a set:{'rakesh',3,4,5}\n",
      "{1, 2, 3, 'manu', 4, 5, 'rakesh'}\n"
     ]
    }
   ],
   "source": [
    "s1 = eval(input('Enter a set:'))\n",
    "s2 = eval(input('Enter a set:'))\n",
    "print(s1.union(s2))"
   ]
  },
  {
   "cell_type": "markdown",
   "id": "02ef76f2",
   "metadata": {},
   "source": [
    "### Update the first set with items that don't exist in the second set"
   ]
  },
  {
   "cell_type": "code",
   "execution_count": 12,
   "id": "19e042a7",
   "metadata": {},
   "outputs": [
    {
     "name": "stdout",
     "output_type": "stream",
     "text": [
      "Enter a set:{10,20,30}\n",
      "Enter a set:{20,40,50}\n",
      "{10, 30}\n"
     ]
    }
   ],
   "source": [
    "s1 = eval(input('Enter a set:'))\n",
    "s2 = eval(input('Enter a set:'))\n",
    "print(s1.difference(s2))"
   ]
  },
  {
   "cell_type": "code",
   "execution_count": 15,
   "id": "3c06b6da",
   "metadata": {},
   "outputs": [
    {
     "name": "stdout",
     "output_type": "stream",
     "text": [
      "Enter a set:{10,20,30}\n",
      "Enter a set:{20,40,50}\n",
      "{10, 30}\n"
     ]
    }
   ],
   "source": [
    "s1 = eval(input('Enter a set:'))\n",
    "s2 = eval(input('Enter a set:'))\n",
    "s1.difference_update(s2)\n",
    "print(s1)"
   ]
  },
  {
   "cell_type": "markdown",
   "id": "e2618cb6",
   "metadata": {},
   "source": [
    "### Remove items from the set at once"
   ]
  },
  {
   "cell_type": "code",
   "execution_count": 16,
   "id": "91d443b5",
   "metadata": {},
   "outputs": [
    {
     "name": "stdout",
     "output_type": "stream",
     "text": [
      "{50, 40}\n"
     ]
    }
   ],
   "source": [
    "s1 = {10,20,30,40,50}\n",
    "s1.difference_update({10,20,30})\n",
    "print(s1)\n"
   ]
  },
  {
   "cell_type": "markdown",
   "id": "e1b15b53",
   "metadata": {},
   "source": [
    "### Return a set of elements present in set A or B, but not both"
   ]
  },
  {
   "cell_type": "code",
   "execution_count": 18,
   "id": "65dcdc73",
   "metadata": {},
   "outputs": [
    {
     "name": "stdout",
     "output_type": "stream",
     "text": [
      "Enter a set:{10,20,30}\n",
      "Enter a set:{20,40,50}\n",
      "{40, 10, 50, 30}\n"
     ]
    }
   ],
   "source": [
    "s1 = eval(input('Enter a set:'))\n",
    "s2 = eval(input('Enter a set:'))\n",
    "print(s1.symmetric_difference(s2))"
   ]
  },
  {
   "cell_type": "markdown",
   "id": "623a323c",
   "metadata": {},
   "source": [
    "### Check if two sets have any elements in common"
   ]
  },
  {
   "cell_type": "code",
   "execution_count": 19,
   "id": "3a060f1f",
   "metadata": {},
   "outputs": [
    {
     "name": "stdout",
     "output_type": "stream",
     "text": [
      "Enter a set:{10,20,30}\n",
      "Enter a set:{20,40,50}\n",
      "Two sets have item in common\n",
      "{20}\n"
     ]
    }
   ],
   "source": [
    "s1 = eval(input('Enter a set:'))\n",
    "s2 = eval(input('Enter a set:'))\n",
    "if s1.isdisjoint(s2):\n",
    "    print('Two sets have no item in common')\n",
    "else:\n",
    "    print('Two sets have item in common')\n",
    "    print(s1.intersection(s2))\n"
   ]
  },
  {
   "cell_type": "markdown",
   "id": "285ae00c",
   "metadata": {},
   "source": [
    "### Update set 1 by adding items from set 2 except common items"
   ]
  },
  {
   "cell_type": "code",
   "execution_count": 23,
   "id": "86cb448a",
   "metadata": {},
   "outputs": [
    {
     "name": "stdout",
     "output_type": "stream",
     "text": [
      "Enter a set:{10,20,30}\n",
      "Enter a set:{20,40,50}\n",
      "{40, 10, 50, 30}\n"
     ]
    }
   ],
   "source": [
    "s1 = eval(input('Enter a set:'))\n",
    "s2 = eval(input('Enter a set:'))\n",
    "s1.symmetric_difference_update(s2)\n",
    "print(s1)"
   ]
  },
  {
   "cell_type": "markdown",
   "id": "b2a075ba",
   "metadata": {},
   "source": [
    "### Remove items from set1 that are not common to both set1 and set2"
   ]
  },
  {
   "cell_type": "code",
   "execution_count": 24,
   "id": "13feacf6",
   "metadata": {},
   "outputs": [
    {
     "name": "stdout",
     "output_type": "stream",
     "text": [
      "Enter a set:{10,20,30,40,50}\n",
      "Enter a set:{30,40,50,60,70}\n",
      "{40, 50, 30}\n"
     ]
    }
   ],
   "source": [
    "s1 = eval(input('Enter a set:'))\n",
    "s2 = eval(input('Enter a set:'))\n",
    "s1.intersection_update(s2)\n",
    "print(s1)"
   ]
  },
  {
   "cell_type": "markdown",
   "id": "7d428495",
   "metadata": {},
   "source": [
    "### Check if a set a subset of another set"
   ]
  },
  {
   "cell_type": "code",
   "execution_count": 25,
   "id": "ab3cc9db",
   "metadata": {},
   "outputs": [
    {
     "name": "stdout",
     "output_type": "stream",
     "text": [
      "Enter a subset:{4,5}\n",
      "Enter a set:{1,2,3,4,5,6,7}\n",
      "Yes {4, 5} is a subset of  {1, 2, 3, 4, 5, 6, 7}\n"
     ]
    }
   ],
   "source": [
    "s1 = eval(input('Enter a subset:'))\n",
    "s2 = eval(input('Enter a set:'))\n",
    "if s1.issubset(s2):\n",
    "    print('Yes',s1,'is a subset of ',s2)\n",
    "else:\n",
    "    print('No',s1,'is not a subset of ',s2)"
   ]
  },
  {
   "cell_type": "code",
   "execution_count": 26,
   "id": "919b94fa",
   "metadata": {},
   "outputs": [
    {
     "name": "stdout",
     "output_type": "stream",
     "text": [
      "Yes, the value 5 is exist in a set\n"
     ]
    }
   ],
   "source": [
    "s = {5,7,9}\n",
    "if 5 in s:\n",
    "    print('Yes, the value 5 is exist in a set')\n",
    "else:\n",
    "    print('Yes, the value 5 is not exist in a set')"
   ]
  },
  {
   "cell_type": "markdown",
   "id": "769b5129",
   "metadata": {},
   "source": [
    "### Add an element to a set"
   ]
  },
  {
   "cell_type": "code",
   "execution_count": 30,
   "id": "5178fc45",
   "metadata": {},
   "outputs": [
    {
     "name": "stdout",
     "output_type": "stream",
     "text": [
      "Enter a set:{1,2,3}\n",
      "Enter how many elements you want to add into set5\n",
      "Enter a element:3\n",
      "Enter a element:4\n",
      "Enter a element:5\n",
      "Enter a element:6\n",
      "Enter a element:7\n",
      "{1, 2, 3, 4, 5, 6, 7}\n"
     ]
    }
   ],
   "source": [
    "s = eval(input('Enter a set:'))\n",
    "n = int(input('Enter how many elements you want to add into set'))\n",
    "for i in range(n):\n",
    "    a = int(input('Enter a element:'))\n",
    "    s.add(a)\n",
    "print(set(s))"
   ]
  },
  {
   "cell_type": "markdown",
   "id": "d6117265",
   "metadata": {},
   "source": [
    "### Make a copy of a set"
   ]
  },
  {
   "cell_type": "code",
   "execution_count": 32,
   "id": "7ade7ce1",
   "metadata": {},
   "outputs": [
    {
     "name": "stdout",
     "output_type": "stream",
     "text": [
      "Enter a set:{1,2,3,4,5}\n",
      "{1, 2, 3, 4, 5}\n"
     ]
    }
   ],
   "source": [
    "s = eval(input('Enter a set:'))\n",
    "s1 = s.copy()\n",
    "print(s1)"
   ]
  },
  {
   "cell_type": "markdown",
   "id": "7f47512d",
   "metadata": {},
   "source": [
    "### Check if a set is a superset of another set"
   ]
  },
  {
   "cell_type": "code",
   "execution_count": 33,
   "id": "1bac3dd8",
   "metadata": {},
   "outputs": [
    {
     "name": "stdout",
     "output_type": "stream",
     "text": [
      "Enter a set:{1,2,3,4,5,6,7}\n",
      "Enter a set:{1,2,5}\n",
      "{1, 2, 3, 4, 5, 6, 7} is superset of {1, 2, 5}\n"
     ]
    }
   ],
   "source": [
    "s1 = eval(input('Enter a set:'))\n",
    "s2 = eval(input('Enter a set:'))\n",
    "if s1.issuperset(s2):\n",
    "    print(s1,'is superset of',s2)\n",
    "else:\n",
    "    print(s1,'is not superset of',s2)"
   ]
  },
  {
   "cell_type": "markdown",
   "id": "aa7101c4",
   "metadata": {},
   "source": [
    "### Convert a set to a list"
   ]
  },
  {
   "cell_type": "code",
   "execution_count": 34,
   "id": "5c19679e",
   "metadata": {},
   "outputs": [
    {
     "name": "stdout",
     "output_type": "stream",
     "text": [
      "Enter a set:{1,2,3,4,5}\n",
      "[1, 2, 3, 4, 5]\n"
     ]
    }
   ],
   "source": [
    "s = eval(input('Enter a set:'))\n",
    "print(list(s))"
   ]
  },
  {
   "cell_type": "code",
   "execution_count": 37,
   "id": "42a3cf75",
   "metadata": {},
   "outputs": [
    {
     "name": "stdout",
     "output_type": "stream",
     "text": [
      "a\n",
      "c\n",
      "e\n",
      "b\n",
      "d\n",
      "The length is: 5\n"
     ]
    }
   ],
   "source": [
    "s = {'a','b','c','d','e'}\n",
    "for i in s:\n",
    "    print(i)\n",
    "print('The length is:',len(s))    "
   ]
  },
  {
   "cell_type": "markdown",
   "id": "5ff927f3",
   "metadata": {},
   "source": [
    "### Remove an element and remove & return an unspecified element from set"
   ]
  },
  {
   "cell_type": "code",
   "execution_count": 41,
   "id": "6616c17c",
   "metadata": {},
   "outputs": [
    {
     "name": "stdout",
     "output_type": "stream",
     "text": [
      "a\n",
      "{'c', 'y', 'x', 'b'}\n"
     ]
    }
   ],
   "source": [
    "s = {'x','y','z','a','b','c'}\n",
    "s.remove('z')\n",
    "print(s.pop())\n",
    "print(s)"
   ]
  },
  {
   "cell_type": "markdown",
   "id": "8e6dbb39",
   "metadata": {},
   "source": [
    "### Add all elements from another set to an existing set"
   ]
  },
  {
   "cell_type": "code",
   "execution_count": 42,
   "id": "84729d0d",
   "metadata": {},
   "outputs": [
    {
     "name": "stdout",
     "output_type": "stream",
     "text": [
      "Enter a set:{1,2,3}\n",
      "Enter a set:{3,4,5,6,7}\n",
      "{1, 2, 3, 4, 5, 6, 7}\n"
     ]
    }
   ],
   "source": [
    "s1 = eval(input('Enter a set:'))\n",
    "s2 = eval(input('Enter a set:'))\n",
    "s1.update(s2)\n",
    "print(s1)"
   ]
  },
  {
   "cell_type": "markdown",
   "id": "df1b2ad4",
   "metadata": {},
   "source": [
    "### Remove all elements from a set"
   ]
  },
  {
   "cell_type": "code",
   "execution_count": 43,
   "id": "47c43999",
   "metadata": {},
   "outputs": [
    {
     "name": "stdout",
     "output_type": "stream",
     "text": [
      "Enter a set:{1,2,3}\n",
      "{1, 2, 3}\n",
      "set()\n"
     ]
    }
   ],
   "source": [
    "s = eval(input('Enter a set:'))\n",
    "print(s)\n",
    "s.clear()\n",
    "print(s)"
   ]
  },
  {
   "cell_type": "markdown",
   "id": "948789ad",
   "metadata": {},
   "source": [
    "### WAPP to find the missing of s1 in s2"
   ]
  },
  {
   "cell_type": "code",
   "execution_count": 48,
   "id": "c1b17fb3",
   "metadata": {},
   "outputs": [
    {
     "name": "stdout",
     "output_type": "stream",
     "text": [
      "Enter a set:{1,2,3,4,5,6}\n",
      "Enter a set:{4,5,6,7,8,9}\n",
      "{1, 2, 3}\n"
     ]
    }
   ],
   "source": [
    "s1 = eval(input('Enter a set:'))\n",
    "s2 = eval(input('Enter a set:'))\n",
    "s1.difference_update(s2)\n",
    "print(s1)"
   ]
  },
  {
   "cell_type": "markdown",
   "id": "8214c232",
   "metadata": {},
   "source": [
    "### Remove last item from a given set"
   ]
  },
  {
   "cell_type": "code",
   "execution_count": 50,
   "id": "13c83a1d",
   "metadata": {},
   "outputs": [
    {
     "name": "stdout",
     "output_type": "stream",
     "text": [
      "{'Orange', 'Yellow', 'Blue', 'Green', 'Black', 'Red'}\n",
      "{'Orange', 'Yellow', 'Green', 'Black', 'Red'}\n"
     ]
    }
   ],
   "source": [
    "s = {'Green','Yellow','Black','Orange','Red','Blue'}\n",
    "print(s)\n",
    "s.remove('Blue')\n",
    "print(s)"
   ]
  },
  {
   "cell_type": "code",
   "execution_count": null,
   "id": "2b6043b5",
   "metadata": {},
   "outputs": [],
   "source": []
  }
 ],
 "metadata": {
  "kernelspec": {
   "display_name": "Python 3 (ipykernel)",
   "language": "python",
   "name": "python3"
  },
  "language_info": {
   "codemirror_mode": {
    "name": "ipython",
    "version": 3
   },
   "file_extension": ".py",
   "mimetype": "text/x-python",
   "name": "python",
   "nbconvert_exporter": "python",
   "pygments_lexer": "ipython3",
   "version": "3.9.12"
  }
 },
 "nbformat": 4,
 "nbformat_minor": 5
}
